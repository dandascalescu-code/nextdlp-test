{
  "nbformat": 4,
  "nbformat_minor": 0,
  "metadata": {
    "colab": {
      "provenance": []
    },
    "kernelspec": {
      "name": "python3",
      "display_name": "Python 3"
    },
    "language_info": {
      "name": "python"
    }
  },
  "cells": [
    {
      "cell_type": "markdown",
      "source": [
        "### Part 1 - Fibonacci"
      ],
      "metadata": {
        "id": "dsI92gE1xK3m"
      }
    },
    {
      "cell_type": "code",
      "execution_count": null,
      "metadata": {
        "id": "HB0Gt-m8kkYf"
      },
      "outputs": [],
      "source": [
        "\"\"\"\n",
        "  Fibonacci formula on paper. Highly inefficient due to recursion.\n",
        "\"\"\"\n",
        "def fib_naive(n):\n",
        "  if n < 0 or not isinstance(n, int):\n",
        "    raise Exception(\"fib(n) requires integer n >= 0\")\n",
        "  \n",
        "  if n == 0:\n",
        "    return 1\n",
        "  if n == 1:\n",
        "    return 1\n",
        "  \n",
        "  return fib_naive(n-1) + fib_naive(n-2)"
      ]
    },
    {
      "cell_type": "code",
      "source": [
        "\"\"\"\n",
        "  Forms list of Fibonacci sequence values f(n) from f(0) to f(N)\n",
        "\"\"\"\n",
        "def _fib_list(N):\n",
        "  if N < 0 or not isinstance(N, int):\n",
        "    return []\n",
        "  \n",
        "  ns = []\n",
        "  for i in range(N+1):\n",
        "    if i == 0 or i == 1:\n",
        "      ns.append(1)\n",
        "    else:\n",
        "      ns.append( ns[i-2] + ns[i-1] )\n",
        "  \n",
        "  return ns\n",
        "\n",
        "\"\"\"\n",
        "  Returns Fibonacci sequence value f(n)\n",
        "\"\"\"\n",
        "def fib(n):\n",
        "  if n < 0 or not isinstance(n, int):\n",
        "    raise Exception(\"fib(n) requires integer n >= 0\")\n",
        "  \n",
        "  return _fib_list(n)[-1]"
      ],
      "metadata": {
        "id": "n3Q-boznoy44"
      },
      "execution_count": null,
      "outputs": []
    },
    {
      "cell_type": "code",
      "source": [
        "\"\"\"\n",
        "  Returns sum of first n even Fibonacci sequence values\n",
        "\"\"\"\n",
        "def fib_evens_sum(n):\n",
        "  if n < 1 or not isinstance(n, int):\n",
        "    raise Exception(\"fib_evens_sum(n) requires integer n >= 1\")\n",
        "  \n",
        "  ns = _fib_list(n-1)\n",
        "  evens = [ ns[i] for i in range(n) if ns[i] % 2 == 0 ]\n",
        "  return sum(evens)"
      ],
      "metadata": {
        "id": "seD3f2yWta7Q"
      },
      "execution_count": null,
      "outputs": []
    },
    {
      "cell_type": "code",
      "source": [
        "fib_evens_sum(100)"
      ],
      "metadata": {
        "colab": {
          "base_uri": "https://localhost:8080/"
        },
        "id": "8clsTxWes2dP",
        "outputId": "688ae203-227f-439a-f12f-8235c712ff14"
      },
      "execution_count": null,
      "outputs": [
        {
          "output_type": "execute_result",
          "data": {
            "text/plain": [
              "286573922006908542050"
            ]
          },
          "metadata": {},
          "execution_count": 58
        }
      ]
    },
    {
      "cell_type": "markdown",
      "source": [
        "### Part 2 - Array intersection"
      ],
      "metadata": {
        "id": "TiQl-PmVxO4U"
      }
    },
    {
      "cell_type": "code",
      "source": [
        "from random import randint as rng "
      ],
      "metadata": {
        "id": "uwQ68YyeyW6q"
      },
      "execution_count": null,
      "outputs": []
    },
    {
      "cell_type": "code",
      "source": [
        "\"\"\"\n",
        "  Performs intersection of two sorted lists of integers\n",
        "  Same as list(set(list1).intersection(set(list2)))\n",
        "\"\"\"\n",
        "def intersection(list1, list2):\n",
        "  return [ n for n in set(list1) if n in list2 ]\n",
        "\n",
        "LIST1 = sorted([\n",
        "    rng(0, 10) for _ in range(10)\n",
        "])\n",
        "LIST2 = sorted([\n",
        "    rng(0, 20) for _ in range(20)\n",
        "])\n",
        "\n",
        "print(LIST1)\n",
        "print(LIST2)\n",
        "print(f\"\\nIntersection: {intersection(LIST1, LIST2)}\")"
      ],
      "metadata": {
        "colab": {
          "base_uri": "https://localhost:8080/"
        },
        "id": "YmDJX-xExWLd",
        "outputId": "8728c8e1-b4ca-4da1-95c7-186302b014e5"
      },
      "execution_count": null,
      "outputs": [
        {
          "output_type": "stream",
          "name": "stdout",
          "text": [
            "[0, 1, 2, 2, 3, 4, 4, 5, 6, 6]\n",
            "[0, 1, 1, 2, 2, 2, 3, 3, 5, 5, 6, 7, 8, 9, 9, 14, 15, 18, 18, 19]\n",
            "\n",
            "Intersection: [0, 1, 2, 3, 5, 6]\n"
          ]
        }
      ]
    },
    {
      "cell_type": "markdown",
      "source": [
        "### Part 3 - Odd digits"
      ],
      "metadata": {
        "id": "SkmUZ7V70plK"
      }
    },
    {
      "cell_type": "code",
      "source": [
        "\"\"\"\n",
        "  Returns true if decimal representation of integer n contains no odd digits, false otherwise\n",
        "\"\"\"\n",
        "def has_no_odd_digits(n):\n",
        "  for c in str(n):\n",
        "    if int(c) % 2 == 1:\n",
        "      return False\n",
        "  return True\n",
        "\n",
        "print(has_no_odd_digits(510231))\n",
        "print(has_no_odd_digits(5718321))\n",
        "print(has_no_odd_digits(222222))"
      ],
      "metadata": {
        "colab": {
          "base_uri": "https://localhost:8080/"
        },
        "id": "bSDvEdTj02A3",
        "outputId": "352f6818-05fc-4e52-8a43-e2f71a4562b0"
      },
      "execution_count": null,
      "outputs": [
        {
          "output_type": "stream",
          "name": "stdout",
          "text": [
            "False\n",
            "False\n",
            "True\n"
          ]
        }
      ]
    },
    {
      "cell_type": "markdown",
      "source": [
        "### Part 4 - Strange sum"
      ],
      "metadata": {
        "id": "ixbw9h962NEH"
      }
    },
    {
      "cell_type": "code",
      "source": [
        "\"\"\"\n",
        "  When passed the decimal digit d, returns the value of c + cc + ccc + cccc, where c is the character form of d to be concatenated\n",
        "\"\"\"\n",
        "def strange_sum(d):\n",
        "  c = str(d)\n",
        "  return int(c) + int(c+c) + int(c+c+c) + int(c+c+c+c)\n",
        "\n",
        "print(strange_sum(3))"
      ],
      "metadata": {
        "colab": {
          "base_uri": "https://localhost:8080/"
        },
        "id": "YcF9Kfd52UKf",
        "outputId": "0c6f9303-2261-4811-c5d1-d0d4eed441f4"
      },
      "execution_count": null,
      "outputs": [
        {
          "output_type": "stream",
          "name": "stdout",
          "text": [
            "3702\n"
          ]
        }
      ]
    }
  ]
}