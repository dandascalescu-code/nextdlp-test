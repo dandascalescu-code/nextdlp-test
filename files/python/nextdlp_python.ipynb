{
  "nbformat": 4,
  "nbformat_minor": 0,
  "metadata": {
    "colab": {
      "provenance": []
    },
    "kernelspec": {
      "name": "python3",
      "display_name": "Python 3"
    },
    "language_info": {
      "name": "python"
    }
  },
  "cells": [
    {
      "cell_type": "markdown",
      "source": [
        "### Part 1 - Generator"
      ],
      "metadata": {
        "id": "I0SvKMdwAP4X"
      }
    },
    {
      "cell_type": "code",
      "execution_count": null,
      "metadata": {
        "colab": {
          "base_uri": "https://localhost:8080/"
        },
        "id": "Ko1HuEZM_6uL",
        "outputId": "87818d98-42e2-4452-8ad9-67623988caa6"
      },
      "outputs": [
        {
          "output_type": "stream",
          "name": "stdout",
          "text": [
            "1734969135\n"
          ]
        }
      ],
      "source": [
        "\"\"\"\n",
        "  A generator for the positive integers up to N that are divisible by x\n",
        "\"\"\"\n",
        "def gen_integers_divisible(N, x):\n",
        "  for n in range(1, N+1):\n",
        "    if n % x == 0:\n",
        "      yield n\n",
        "\n",
        "print(sum(gen_integers_divisible(102029, 3)))"
      ]
    },
    {
      "cell_type": "markdown",
      "source": [
        "### Part 2 - Function"
      ],
      "metadata": {
        "id": "DYYwWPyADdjZ"
      }
    },
    {
      "cell_type": "code",
      "source": [
        "\"\"\"\n",
        "  Returns a list of n lists, each with incrementing values\n",
        "  e.g. f(3) returns [[1], [1, 2], [1, 2, 3]]\n",
        "\"\"\"\n",
        "def f(n):\n",
        "  return [ [ j+1 for j in range(i+1) ] for i in range(n) ]\n",
        "\n",
        "f(3)"
      ],
      "metadata": {
        "colab": {
          "base_uri": "https://localhost:8080/"
        },
        "id": "zBQ4RISVDiR0",
        "outputId": "c408e49e-af35-4778-8bdf-a83269c73f88"
      },
      "execution_count": null,
      "outputs": [
        {
          "output_type": "execute_result",
          "data": {
            "text/plain": [
              "[[1], [1, 2], [1, 2, 3]]"
            ]
          },
          "metadata": {},
          "execution_count": 29
        }
      ]
    }
  ]
}